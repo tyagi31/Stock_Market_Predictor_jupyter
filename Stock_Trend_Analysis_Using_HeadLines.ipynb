{
 "cells": [
  {
   "cell_type": "code",
   "execution_count": 1,
   "id": "5119a225",
   "metadata": {},
   "outputs": [],
   "source": [
    "import pandas as pd\n",
    "import matplotlib.pyplot as plt\n",
    "import seaborn as sns"
   ]
  },
  {
   "cell_type": "code",
   "execution_count": 2,
   "id": "96db4b4f",
   "metadata": {},
   "outputs": [],
   "source": [
    "df=pd.read_csv(\"data.csv\",encoding=\"ISO-8859-1\")"
   ]
  },
  {
   "cell_type": "code",
   "execution_count": 72,
   "id": "01ecdb5e",
   "metadata": {},
   "outputs": [
    {
     "data": {
      "text/html": [
       "<div>\n",
       "<style scoped>\n",
       "    .dataframe tbody tr th:only-of-type {\n",
       "        vertical-align: middle;\n",
       "    }\n",
       "\n",
       "    .dataframe tbody tr th {\n",
       "        vertical-align: top;\n",
       "    }\n",
       "\n",
       "    .dataframe thead th {\n",
       "        text-align: right;\n",
       "    }\n",
       "</style>\n",
       "<table border=\"1\" class=\"dataframe\">\n",
       "  <thead>\n",
       "    <tr style=\"text-align: right;\">\n",
       "      <th></th>\n",
       "      <th>Date</th>\n",
       "      <th>Label</th>\n",
       "      <th>Top1</th>\n",
       "      <th>Top2</th>\n",
       "      <th>Top3</th>\n",
       "      <th>Top4</th>\n",
       "      <th>Top5</th>\n",
       "      <th>Top6</th>\n",
       "      <th>Top7</th>\n",
       "      <th>Top8</th>\n",
       "      <th>...</th>\n",
       "      <th>Top16</th>\n",
       "      <th>Top17</th>\n",
       "      <th>Top18</th>\n",
       "      <th>Top19</th>\n",
       "      <th>Top20</th>\n",
       "      <th>Top21</th>\n",
       "      <th>Top22</th>\n",
       "      <th>Top23</th>\n",
       "      <th>Top24</th>\n",
       "      <th>Top25</th>\n",
       "    </tr>\n",
       "  </thead>\n",
       "  <tbody>\n",
       "    <tr>\n",
       "      <th>4100</th>\n",
       "      <td>2016-07-01</td>\n",
       "      <td>1</td>\n",
       "      <td>A 117-year-old woman in Mexico City finally re...</td>\n",
       "      <td>IMF chief backs Athens as permanent Olympic host</td>\n",
       "      <td>The president of France says if Brexit won, so...</td>\n",
       "      <td>British Man Who Must Give Police 24 Hours' Not...</td>\n",
       "      <td>100+ Nobel laureates urge Greenpeace to stop o...</td>\n",
       "      <td>Brazil: Huge spike in number of police killing...</td>\n",
       "      <td>Austria's highest court annuls presidential el...</td>\n",
       "      <td>Facebook wins privacy case, can track any Belg...</td>\n",
       "      <td>...</td>\n",
       "      <td>The United States has placed Myanmar, Uzbekist...</td>\n",
       "      <td>S&amp;amp;P revises European Union credit rating t...</td>\n",
       "      <td>India gets $1 billion loan from World Bank for...</td>\n",
       "      <td>U.S. sailors detained by Iran spoke too much u...</td>\n",
       "      <td>Mass fish kill in Vietnam solved as Taiwan ste...</td>\n",
       "      <td>Philippines president Rodrigo Duterte urges pe...</td>\n",
       "      <td>Spain arrests three Pakistanis accused of prom...</td>\n",
       "      <td>Venezuela, where anger over food shortages is ...</td>\n",
       "      <td>A Hindu temple worker has been killed by three...</td>\n",
       "      <td>Ozone layer hole seems to be healing - US &amp;amp...</td>\n",
       "    </tr>\n",
       "  </tbody>\n",
       "</table>\n",
       "<p>1 rows × 27 columns</p>\n",
       "</div>"
      ],
      "text/plain": [
       "            Date  Label                                               Top1  \\\n",
       "4100  2016-07-01      1  A 117-year-old woman in Mexico City finally re...   \n",
       "\n",
       "                                                  Top2  \\\n",
       "4100  IMF chief backs Athens as permanent Olympic host   \n",
       "\n",
       "                                                   Top3  \\\n",
       "4100  The president of France says if Brexit won, so...   \n",
       "\n",
       "                                                   Top4  \\\n",
       "4100  British Man Who Must Give Police 24 Hours' Not...   \n",
       "\n",
       "                                                   Top5  \\\n",
       "4100  100+ Nobel laureates urge Greenpeace to stop o...   \n",
       "\n",
       "                                                   Top6  \\\n",
       "4100  Brazil: Huge spike in number of police killing...   \n",
       "\n",
       "                                                   Top7  \\\n",
       "4100  Austria's highest court annuls presidential el...   \n",
       "\n",
       "                                                   Top8  ...  \\\n",
       "4100  Facebook wins privacy case, can track any Belg...  ...   \n",
       "\n",
       "                                                  Top16  \\\n",
       "4100  The United States has placed Myanmar, Uzbekist...   \n",
       "\n",
       "                                                  Top17  \\\n",
       "4100  S&amp;P revises European Union credit rating t...   \n",
       "\n",
       "                                                  Top18  \\\n",
       "4100  India gets $1 billion loan from World Bank for...   \n",
       "\n",
       "                                                  Top19  \\\n",
       "4100  U.S. sailors detained by Iran spoke too much u...   \n",
       "\n",
       "                                                  Top20  \\\n",
       "4100  Mass fish kill in Vietnam solved as Taiwan ste...   \n",
       "\n",
       "                                                  Top21  \\\n",
       "4100  Philippines president Rodrigo Duterte urges pe...   \n",
       "\n",
       "                                                  Top22  \\\n",
       "4100  Spain arrests three Pakistanis accused of prom...   \n",
       "\n",
       "                                                  Top23  \\\n",
       "4100  Venezuela, where anger over food shortages is ...   \n",
       "\n",
       "                                                  Top24  \\\n",
       "4100  A Hindu temple worker has been killed by three...   \n",
       "\n",
       "                                                  Top25  \n",
       "4100  Ozone layer hole seems to be healing - US &amp...  \n",
       "\n",
       "[1 rows x 27 columns]"
      ]
     },
     "execution_count": 72,
     "metadata": {},
     "output_type": "execute_result"
    }
   ],
   "source": [
    "df.tail(1)"
   ]
  },
  {
   "cell_type": "code",
   "execution_count": 50,
   "id": "4155e0de",
   "metadata": {},
   "outputs": [],
   "source": [
    "train=df[:][:3500]\n",
    "test=df[:][3500:]"
   ]
  },
  {
   "cell_type": "code",
   "execution_count": 52,
   "id": "749e7ff5",
   "metadata": {},
   "outputs": [],
   "source": [
    "#removing anything except [a-zA-Z],i.e any punctuator with \" \"\n",
    "data=train.drop([\"Date\",\"Label\"],axis=1)\n",
    "data.replace('[^a-zA-Z]',\" \",regex=True,inplace=True)"
   ]
  },
  {
   "cell_type": "code",
   "execution_count": 53,
   "id": "57d3bb4b",
   "metadata": {},
   "outputs": [
    {
     "data": {
      "text/html": [
       "<div>\n",
       "<style scoped>\n",
       "    .dataframe tbody tr th:only-of-type {\n",
       "        vertical-align: middle;\n",
       "    }\n",
       "\n",
       "    .dataframe tbody tr th {\n",
       "        vertical-align: top;\n",
       "    }\n",
       "\n",
       "    .dataframe thead th {\n",
       "        text-align: right;\n",
       "    }\n",
       "</style>\n",
       "<table border=\"1\" class=\"dataframe\">\n",
       "  <thead>\n",
       "    <tr style=\"text-align: right;\">\n",
       "      <th></th>\n",
       "      <th>1</th>\n",
       "      <th>2</th>\n",
       "      <th>3</th>\n",
       "      <th>4</th>\n",
       "      <th>5</th>\n",
       "      <th>6</th>\n",
       "      <th>7</th>\n",
       "      <th>8</th>\n",
       "      <th>9</th>\n",
       "      <th>10</th>\n",
       "      <th>...</th>\n",
       "      <th>16</th>\n",
       "      <th>17</th>\n",
       "      <th>18</th>\n",
       "      <th>19</th>\n",
       "      <th>20</th>\n",
       "      <th>21</th>\n",
       "      <th>22</th>\n",
       "      <th>23</th>\n",
       "      <th>24</th>\n",
       "      <th>25</th>\n",
       "    </tr>\n",
       "  </thead>\n",
       "  <tbody>\n",
       "    <tr>\n",
       "      <th>0</th>\n",
       "      <td>A  hindrance to operations   extracts from the...</td>\n",
       "      <td>Scorecard</td>\n",
       "      <td>Hughes  instant hit buoys Blues</td>\n",
       "      <td>Jack gets his skates on at ice cold Alex</td>\n",
       "      <td>Chaos as Maracana builds up for United</td>\n",
       "      <td>Depleted Leicester prevail as Elliott spoils E...</td>\n",
       "      <td>Hungry Spurs sense rich pickings</td>\n",
       "      <td>Gunners so wide of an easy target</td>\n",
       "      <td>Derby raise a glass to Strupar s debut double</td>\n",
       "      <td>Southgate strikes  Leeds pay the penalty</td>\n",
       "      <td>...</td>\n",
       "      <td>Flintoff injury piles on woe for England</td>\n",
       "      <td>Hunters threaten Jospin with new battle of the...</td>\n",
       "      <td>Kohl s successor drawn into scandal</td>\n",
       "      <td>The difference between men and women</td>\n",
       "      <td>Sara Denver  nurse turned solicitor</td>\n",
       "      <td>Diana s landmine crusade put Tories in a panic</td>\n",
       "      <td>Yeltsin s resignation caught opposition flat f...</td>\n",
       "      <td>Russian roulette</td>\n",
       "      <td>Sold out</td>\n",
       "      <td>Recovering a title</td>\n",
       "    </tr>\n",
       "  </tbody>\n",
       "</table>\n",
       "<p>1 rows × 25 columns</p>\n",
       "</div>"
      ],
      "text/plain": [
       "                                                  1          2   \\\n",
       "0  A  hindrance to operations   extracts from the...  Scorecard   \n",
       "\n",
       "                                3                                         4   \\\n",
       "0  Hughes  instant hit buoys Blues  Jack gets his skates on at ice cold Alex   \n",
       "\n",
       "                                       5   \\\n",
       "0  Chaos as Maracana builds up for United   \n",
       "\n",
       "                                                  6   \\\n",
       "0  Depleted Leicester prevail as Elliott spoils E...   \n",
       "\n",
       "                                 7                                  8   \\\n",
       "0  Hungry Spurs sense rich pickings  Gunners so wide of an easy target   \n",
       "\n",
       "                                              9   \\\n",
       "0  Derby raise a glass to Strupar s debut double   \n",
       "\n",
       "                                         10  ...  \\\n",
       "0  Southgate strikes  Leeds pay the penalty  ...   \n",
       "\n",
       "                                         16  \\\n",
       "0  Flintoff injury piles on woe for England   \n",
       "\n",
       "                                                  17  \\\n",
       "0  Hunters threaten Jospin with new battle of the...   \n",
       "\n",
       "                                    18                                    19  \\\n",
       "0  Kohl s successor drawn into scandal  The difference between men and women   \n",
       "\n",
       "                                    20  \\\n",
       "0  Sara Denver  nurse turned solicitor   \n",
       "\n",
       "                                               21  \\\n",
       "0  Diana s landmine crusade put Tories in a panic   \n",
       "\n",
       "                                                  22                23  \\\n",
       "0  Yeltsin s resignation caught opposition flat f...  Russian roulette   \n",
       "\n",
       "         24                  25  \n",
       "0  Sold out  Recovering a title  \n",
       "\n",
       "[1 rows x 25 columns]"
      ]
     },
     "execution_count": 53,
     "metadata": {},
     "output_type": "execute_result"
    }
   ],
   "source": [
    "#renaming all columns with numerical value\n",
    "name=[i for i in range(1,26)]\n",
    "data.columns=name\n",
    "data.head(1)"
   ]
  },
  {
   "cell_type": "code",
   "execution_count": 54,
   "id": "ae06128b",
   "metadata": {},
   "outputs": [
    {
     "data": {
      "text/html": [
       "<div>\n",
       "<style scoped>\n",
       "    .dataframe tbody tr th:only-of-type {\n",
       "        vertical-align: middle;\n",
       "    }\n",
       "\n",
       "    .dataframe tbody tr th {\n",
       "        vertical-align: top;\n",
       "    }\n",
       "\n",
       "    .dataframe thead th {\n",
       "        text-align: right;\n",
       "    }\n",
       "</style>\n",
       "<table border=\"1\" class=\"dataframe\">\n",
       "  <thead>\n",
       "    <tr style=\"text-align: right;\">\n",
       "      <th></th>\n",
       "      <th>1</th>\n",
       "      <th>2</th>\n",
       "      <th>3</th>\n",
       "      <th>4</th>\n",
       "      <th>5</th>\n",
       "      <th>6</th>\n",
       "      <th>7</th>\n",
       "      <th>8</th>\n",
       "      <th>9</th>\n",
       "      <th>10</th>\n",
       "      <th>...</th>\n",
       "      <th>16</th>\n",
       "      <th>17</th>\n",
       "      <th>18</th>\n",
       "      <th>19</th>\n",
       "      <th>20</th>\n",
       "      <th>21</th>\n",
       "      <th>22</th>\n",
       "      <th>23</th>\n",
       "      <th>24</th>\n",
       "      <th>25</th>\n",
       "    </tr>\n",
       "  </thead>\n",
       "  <tbody>\n",
       "    <tr>\n",
       "      <th>0</th>\n",
       "      <td>a  hindrance to operations   extracts from the...</td>\n",
       "      <td>scorecard</td>\n",
       "      <td>hughes  instant hit buoys blues</td>\n",
       "      <td>jack gets his skates on at ice cold alex</td>\n",
       "      <td>chaos as maracana builds up for united</td>\n",
       "      <td>depleted leicester prevail as elliott spoils e...</td>\n",
       "      <td>hungry spurs sense rich pickings</td>\n",
       "      <td>gunners so wide of an easy target</td>\n",
       "      <td>derby raise a glass to strupar s debut double</td>\n",
       "      <td>southgate strikes  leeds pay the penalty</td>\n",
       "      <td>...</td>\n",
       "      <td>flintoff injury piles on woe for england</td>\n",
       "      <td>hunters threaten jospin with new battle of the...</td>\n",
       "      <td>kohl s successor drawn into scandal</td>\n",
       "      <td>the difference between men and women</td>\n",
       "      <td>sara denver  nurse turned solicitor</td>\n",
       "      <td>diana s landmine crusade put tories in a panic</td>\n",
       "      <td>yeltsin s resignation caught opposition flat f...</td>\n",
       "      <td>russian roulette</td>\n",
       "      <td>sold out</td>\n",
       "      <td>recovering a title</td>\n",
       "    </tr>\n",
       "  </tbody>\n",
       "</table>\n",
       "<p>1 rows × 25 columns</p>\n",
       "</div>"
      ],
      "text/plain": [
       "                                                  1          2   \\\n",
       "0  a  hindrance to operations   extracts from the...  scorecard   \n",
       "\n",
       "                                3                                         4   \\\n",
       "0  hughes  instant hit buoys blues  jack gets his skates on at ice cold alex   \n",
       "\n",
       "                                       5   \\\n",
       "0  chaos as maracana builds up for united   \n",
       "\n",
       "                                                  6   \\\n",
       "0  depleted leicester prevail as elliott spoils e...   \n",
       "\n",
       "                                 7                                  8   \\\n",
       "0  hungry spurs sense rich pickings  gunners so wide of an easy target   \n",
       "\n",
       "                                              9   \\\n",
       "0  derby raise a glass to strupar s debut double   \n",
       "\n",
       "                                         10  ...  \\\n",
       "0  southgate strikes  leeds pay the penalty  ...   \n",
       "\n",
       "                                         16  \\\n",
       "0  flintoff injury piles on woe for england   \n",
       "\n",
       "                                                  17  \\\n",
       "0  hunters threaten jospin with new battle of the...   \n",
       "\n",
       "                                    18                                    19  \\\n",
       "0  kohl s successor drawn into scandal  the difference between men and women   \n",
       "\n",
       "                                    20  \\\n",
       "0  sara denver  nurse turned solicitor   \n",
       "\n",
       "                                               21  \\\n",
       "0  diana s landmine crusade put tories in a panic   \n",
       "\n",
       "                                                  22                23  \\\n",
       "0  yeltsin s resignation caught opposition flat f...  russian roulette   \n",
       "\n",
       "         24                  25  \n",
       "0  sold out  recovering a title  \n",
       "\n",
       "[1 rows x 25 columns]"
      ]
     },
     "execution_count": 54,
     "metadata": {},
     "output_type": "execute_result"
    }
   ],
   "source": [
    "#for save text pre processing...here we converted all text in dataset as small case text\n",
    "for feature in data.columns:\n",
    "    data[feature]=data[feature].str.lower()      \n",
    "data.head(1)"
   ]
  },
  {
   "cell_type": "code",
   "execution_count": 55,
   "id": "28b13279",
   "metadata": {},
   "outputs": [
    {
     "data": {
      "text/plain": [
       "'a  hindrance to operations   extracts from the leaked reports scorecard hughes  instant hit buoys blues jack gets his skates on at ice cold alex chaos as maracana builds up for united depleted leicester prevail as elliott spoils everton s party hungry spurs sense rich pickings gunners so wide of an easy target derby raise a glass to strupar s debut double southgate strikes  leeds pay the penalty hammers hand robson a youthful lesson saints party like it s      wear wolves have turned into lambs stump mike catches testy gough s taunt langer escapes to hit     flintoff injury piles on woe for england hunters threaten jospin with new battle of the somme kohl s successor drawn into scandal the difference between men and women sara denver  nurse turned solicitor diana s landmine crusade put tories in a panic yeltsin s resignation caught opposition flat footed russian roulette sold out recovering a title '"
      ]
     },
     "execution_count": 55,
     "metadata": {},
     "output_type": "execute_result"
    }
   ],
   "source": [
    "#Now we'll try combining all the 25 column headline(Text) of a single row...and do the same for all rows\n",
    "combined=[]     ##will be furthur used for storing combined headlines\n",
    "# Combined=[headline+headline  for row in range(0,len(data.index)) for headline in data.iloc[row,0:25]]\n",
    "headline=\"\"\n",
    "for row in range(0,len(data.index)):\n",
    "    for txt in data.iloc[row,0:25]:\n",
    "        headline=headline+str(txt)+\" \"\n",
    "    combined.append(headline)\n",
    "    headline=\"\"\n",
    "    \n",
    "combined[0]"
   ]
  },
  {
   "cell_type": "markdown",
   "id": "bad62c0f",
   "metadata": {},
   "source": [
    "# USING COUNT VECTORIZER\n",
    "for all of those who don't know...since machines do not know the text language and here we are dealing with plain gramatical words...so using NPL(Natural Language Processing) we'll be assigning a new column to each and every unique word and when found in an element we'll just be assigning 1 for it..else 0.\n",
    "And thus in this way we'll be overcomming this plain text problem\n",
    "And the module which help's us in doing so is COUNT VECTORISER"
   ]
  },
  {
   "cell_type": "code",
   "execution_count": 56,
   "id": "3a7c26b6",
   "metadata": {},
   "outputs": [],
   "source": [
    "from sklearn.feature_extraction.text import CountVectorizer\n",
    "from sklearn.ensemble import RandomForestClassifier"
   ]
  },
  {
   "cell_type": "markdown",
   "id": "8f48d9e3",
   "metadata": {},
   "source": [
    "here what ngram_range means is that...after all unique words forming a new column...now 2x2 permutation of words will be formed and added as new columns"
   ]
  },
  {
   "cell_type": "code",
   "execution_count": 57,
   "id": "e6b571c4",
   "metadata": {},
   "outputs": [],
   "source": [
    "#fitting\n",
    "cv=CountVectorizer(ngram_range=(2,2))\n",
    "train_data_cv=cv.fit_transform(combined)"
   ]
  },
  {
   "cell_type": "code",
   "execution_count": 60,
   "id": "f807466e",
   "metadata": {},
   "outputs": [
    {
     "data": {
      "text/html": [
       "<style>#sk-container-id-2 {color: black;background-color: white;}#sk-container-id-2 pre{padding: 0;}#sk-container-id-2 div.sk-toggleable {background-color: white;}#sk-container-id-2 label.sk-toggleable__label {cursor: pointer;display: block;width: 100%;margin-bottom: 0;padding: 0.3em;box-sizing: border-box;text-align: center;}#sk-container-id-2 label.sk-toggleable__label-arrow:before {content: \"▸\";float: left;margin-right: 0.25em;color: #696969;}#sk-container-id-2 label.sk-toggleable__label-arrow:hover:before {color: black;}#sk-container-id-2 div.sk-estimator:hover label.sk-toggleable__label-arrow:before {color: black;}#sk-container-id-2 div.sk-toggleable__content {max-height: 0;max-width: 0;overflow: hidden;text-align: left;background-color: #f0f8ff;}#sk-container-id-2 div.sk-toggleable__content pre {margin: 0.2em;color: black;border-radius: 0.25em;background-color: #f0f8ff;}#sk-container-id-2 input.sk-toggleable__control:checked~div.sk-toggleable__content {max-height: 200px;max-width: 100%;overflow: auto;}#sk-container-id-2 input.sk-toggleable__control:checked~label.sk-toggleable__label-arrow:before {content: \"▾\";}#sk-container-id-2 div.sk-estimator input.sk-toggleable__control:checked~label.sk-toggleable__label {background-color: #d4ebff;}#sk-container-id-2 div.sk-label input.sk-toggleable__control:checked~label.sk-toggleable__label {background-color: #d4ebff;}#sk-container-id-2 input.sk-hidden--visually {border: 0;clip: rect(1px 1px 1px 1px);clip: rect(1px, 1px, 1px, 1px);height: 1px;margin: -1px;overflow: hidden;padding: 0;position: absolute;width: 1px;}#sk-container-id-2 div.sk-estimator {font-family: monospace;background-color: #f0f8ff;border: 1px dotted black;border-radius: 0.25em;box-sizing: border-box;margin-bottom: 0.5em;}#sk-container-id-2 div.sk-estimator:hover {background-color: #d4ebff;}#sk-container-id-2 div.sk-parallel-item::after {content: \"\";width: 100%;border-bottom: 1px solid gray;flex-grow: 1;}#sk-container-id-2 div.sk-label:hover label.sk-toggleable__label {background-color: #d4ebff;}#sk-container-id-2 div.sk-serial::before {content: \"\";position: absolute;border-left: 1px solid gray;box-sizing: border-box;top: 0;bottom: 0;left: 50%;z-index: 0;}#sk-container-id-2 div.sk-serial {display: flex;flex-direction: column;align-items: center;background-color: white;padding-right: 0.2em;padding-left: 0.2em;position: relative;}#sk-container-id-2 div.sk-item {position: relative;z-index: 1;}#sk-container-id-2 div.sk-parallel {display: flex;align-items: stretch;justify-content: center;background-color: white;position: relative;}#sk-container-id-2 div.sk-item::before, #sk-container-id-2 div.sk-parallel-item::before {content: \"\";position: absolute;border-left: 1px solid gray;box-sizing: border-box;top: 0;bottom: 0;left: 50%;z-index: -1;}#sk-container-id-2 div.sk-parallel-item {display: flex;flex-direction: column;z-index: 1;position: relative;background-color: white;}#sk-container-id-2 div.sk-parallel-item:first-child::after {align-self: flex-end;width: 50%;}#sk-container-id-2 div.sk-parallel-item:last-child::after {align-self: flex-start;width: 50%;}#sk-container-id-2 div.sk-parallel-item:only-child::after {width: 0;}#sk-container-id-2 div.sk-dashed-wrapped {border: 1px dashed gray;margin: 0 0.4em 0.5em 0.4em;box-sizing: border-box;padding-bottom: 0.4em;background-color: white;}#sk-container-id-2 div.sk-label label {font-family: monospace;font-weight: bold;display: inline-block;line-height: 1.2em;}#sk-container-id-2 div.sk-label-container {text-align: center;}#sk-container-id-2 div.sk-container {/* jupyter's `normalize.less` sets `[hidden] { display: none; }` but bootstrap.min.css set `[hidden] { display: none !important; }` so we also need the `!important` here to be able to override the default hidden behavior on the sphinx rendered scikit-learn.org. See: https://github.com/scikit-learn/scikit-learn/issues/21755 */display: inline-block !important;position: relative;}#sk-container-id-2 div.sk-text-repr-fallback {display: none;}</style><div id=\"sk-container-id-2\" class=\"sk-top-container\"><div class=\"sk-text-repr-fallback\"><pre>RandomForestClassifier(criterion=&#x27;entropy&#x27;, n_estimators=200)</pre><b>In a Jupyter environment, please rerun this cell to show the HTML representation or trust the notebook. <br />On GitHub, the HTML representation is unable to render, please try loading this page with nbviewer.org.</b></div><div class=\"sk-container\" hidden><div class=\"sk-item\"><div class=\"sk-estimator sk-toggleable\"><input class=\"sk-toggleable__control sk-hidden--visually\" id=\"sk-estimator-id-2\" type=\"checkbox\" checked><label for=\"sk-estimator-id-2\" class=\"sk-toggleable__label sk-toggleable__label-arrow\">RandomForestClassifier</label><div class=\"sk-toggleable__content\"><pre>RandomForestClassifier(criterion=&#x27;entropy&#x27;, n_estimators=200)</pre></div></div></div></div></div>"
      ],
      "text/plain": [
       "RandomForestClassifier(criterion='entropy', n_estimators=200)"
      ]
     },
     "execution_count": 60,
     "metadata": {},
     "output_type": "execute_result"
    }
   ],
   "source": [
    "rc=RandomForestClassifier(n_estimators=200,criterion='entropy')\n",
    "rc.fit(train_data_cv,train.Label)"
   ]
  },
  {
   "cell_type": "markdown",
   "id": "0f88c38c",
   "metadata": {},
   "source": [
    "# NLP with Test data\n",
    "Now working on test data...wrangling it too"
   ]
  },
  {
   "cell_type": "code",
   "execution_count": 61,
   "id": "5fd1b6e9",
   "metadata": {},
   "outputs": [],
   "source": [
    "#droping unnecessary columns in test data and removing any non-alphabetical character \n",
    "data=test.drop(['Date','Label'],axis=1)\n",
    "data.replace(\"[^a-zA-Z]\",\" \",regex=True,inplace=True)"
   ]
  },
  {
   "cell_type": "code",
   "execution_count": 62,
   "id": "05d11133",
   "metadata": {},
   "outputs": [
    {
     "data": {
      "text/html": [
       "<div>\n",
       "<style scoped>\n",
       "    .dataframe tbody tr th:only-of-type {\n",
       "        vertical-align: middle;\n",
       "    }\n",
       "\n",
       "    .dataframe tbody tr th {\n",
       "        vertical-align: top;\n",
       "    }\n",
       "\n",
       "    .dataframe thead th {\n",
       "        text-align: right;\n",
       "    }\n",
       "</style>\n",
       "<table border=\"1\" class=\"dataframe\">\n",
       "  <thead>\n",
       "    <tr style=\"text-align: right;\">\n",
       "      <th></th>\n",
       "      <th>1</th>\n",
       "      <th>2</th>\n",
       "      <th>3</th>\n",
       "      <th>4</th>\n",
       "      <th>5</th>\n",
       "      <th>6</th>\n",
       "      <th>7</th>\n",
       "      <th>8</th>\n",
       "      <th>9</th>\n",
       "      <th>10</th>\n",
       "      <th>...</th>\n",
       "      <th>16</th>\n",
       "      <th>17</th>\n",
       "      <th>18</th>\n",
       "      <th>19</th>\n",
       "      <th>20</th>\n",
       "      <th>21</th>\n",
       "      <th>22</th>\n",
       "      <th>23</th>\n",
       "      <th>24</th>\n",
       "      <th>25</th>\n",
       "    </tr>\n",
       "  </thead>\n",
       "  <tbody>\n",
       "    <tr>\n",
       "      <th>3500</th>\n",
       "      <td>London City Banker tried to put neighbour in m...</td>\n",
       "      <td>Italy court overturns law equating cannabis wi...</td>\n",
       "      <td>Venezuela anti government rally turns deadly</td>\n",
       "      <td>Slaughtered for Ivory      of Forest Elephants...</td>\n",
       "      <td>Massive Protests in Venezuela ignored by local...</td>\n",
       "      <td>The risk of reporting US drone strikes  Yemen ...</td>\n",
       "      <td>Mexican Tycoon Becomes First Foreigner to Expl...</td>\n",
       "      <td>Britain warns Scotland  Forget the pound if yo...</td>\n",
       "      <td>UK launches         fund to help male victims ...</td>\n",
       "      <td>German postwoman sacked for taking too much ti...</td>\n",
       "      <td>...</td>\n",
       "      <td>EU tells Britain to include Prostitutes And Dr...</td>\n",
       "      <td>Venezuela  One Wounded  Two Dead after Opposit...</td>\n",
       "      <td>Chinese villagers attack factory after reports...</td>\n",
       "      <td>Strange  S  shaped phenomenon appears off West...</td>\n",
       "      <td>China announces     B air pollution fund</td>\n",
       "      <td>The Bank of England has confirmed that economi...</td>\n",
       "      <td>Male prostitution on the rise in Lebanon</td>\n",
       "      <td>Indian Parliament erupts in chaos after MP use...</td>\n",
       "      <td>Spain makes abortion a criminal offense</td>\n",
       "      <td>Nuclear fusion breakthrough raises hopes for u...</td>\n",
       "    </tr>\n",
       "  </tbody>\n",
       "</table>\n",
       "<p>1 rows × 25 columns</p>\n",
       "</div>"
      ],
      "text/plain": [
       "                                                     1   \\\n",
       "3500  London City Banker tried to put neighbour in m...   \n",
       "\n",
       "                                                     2   \\\n",
       "3500  Italy court overturns law equating cannabis wi...   \n",
       "\n",
       "                                                3   \\\n",
       "3500  Venezuela anti government rally turns deadly   \n",
       "\n",
       "                                                     4   \\\n",
       "3500  Slaughtered for Ivory      of Forest Elephants...   \n",
       "\n",
       "                                                     5   \\\n",
       "3500  Massive Protests in Venezuela ignored by local...   \n",
       "\n",
       "                                                     6   \\\n",
       "3500  The risk of reporting US drone strikes  Yemen ...   \n",
       "\n",
       "                                                     7   \\\n",
       "3500  Mexican Tycoon Becomes First Foreigner to Expl...   \n",
       "\n",
       "                                                     8   \\\n",
       "3500  Britain warns Scotland  Forget the pound if yo...   \n",
       "\n",
       "                                                     9   \\\n",
       "3500  UK launches         fund to help male victims ...   \n",
       "\n",
       "                                                     10  ...  \\\n",
       "3500  German postwoman sacked for taking too much ti...  ...   \n",
       "\n",
       "                                                     16  \\\n",
       "3500  EU tells Britain to include Prostitutes And Dr...   \n",
       "\n",
       "                                                     17  \\\n",
       "3500  Venezuela  One Wounded  Two Dead after Opposit...   \n",
       "\n",
       "                                                     18  \\\n",
       "3500  Chinese villagers attack factory after reports...   \n",
       "\n",
       "                                                     19  \\\n",
       "3500  Strange  S  shaped phenomenon appears off West...   \n",
       "\n",
       "                                            20  \\\n",
       "3500  China announces     B air pollution fund   \n",
       "\n",
       "                                                     21  \\\n",
       "3500  The Bank of England has confirmed that economi...   \n",
       "\n",
       "                                            22  \\\n",
       "3500  Male prostitution on the rise in Lebanon   \n",
       "\n",
       "                                                     23  \\\n",
       "3500  Indian Parliament erupts in chaos after MP use...   \n",
       "\n",
       "                                           24  \\\n",
       "3500  Spain makes abortion a criminal offense   \n",
       "\n",
       "                                                     25  \n",
       "3500  Nuclear fusion breakthrough raises hopes for u...  \n",
       "\n",
       "[1 rows x 25 columns]"
      ]
     },
     "execution_count": 62,
     "metadata": {},
     "output_type": "execute_result"
    }
   ],
   "source": [
    "#renaming all columns with numerical value\n",
    "name=[i for i in range(1,26)]\n",
    "data.columns=name\n",
    "data.head(1)"
   ]
  },
  {
   "cell_type": "code",
   "execution_count": 63,
   "id": "6a7de538",
   "metadata": {},
   "outputs": [],
   "source": [
    "#for save text pre processing...here we converted all text in dataset as small case text\n",
    "for feature in data.columns:\n",
    "    data[feature]=data[feature].str.lower()    "
   ]
  },
  {
   "cell_type": "code",
   "execution_count": 64,
   "id": "ca5f8425",
   "metadata": {},
   "outputs": [],
   "source": [
    "# Now we'll try combining all the 25 column headline(Text) of a single row...and do the same for all rows\n",
    "combined=[]     ##will be furthur used for storing combined headlines\n",
    "# Combined=[headline+headline  for row in range(0,len(data.index)) for headline in data.iloc[row,0:25]]\n",
    "headline=\"\"\n",
    "for row in range(0,len(data.index)):\n",
    "    for txt in data.iloc[row,0:25]:\n",
    "        headline=headline+str(txt)+\" \"\n",
    "    combined.append(headline)\n",
    "    headline=\"\"\n",
    "    \n"
   ]
  },
  {
   "cell_type": "markdown",
   "id": "e1a51396",
   "metadata": {},
   "source": [
    "# Applying count_vectorizer in test data"
   ]
  },
  {
   "cell_type": "code",
   "execution_count": 65,
   "id": "ea0f1285",
   "metadata": {},
   "outputs": [
    {
     "name": "stderr",
     "output_type": "stream",
     "text": [
      "C:\\Python37\\lib\\site-packages\\sklearn\\utils\\deprecation.py:87: FutureWarning: Function get_feature_names is deprecated; get_feature_names is deprecated in 1.0 and will be removed in 1.2. Please use get_feature_names_out instead.\n",
      "  warnings.warn(msg, category=FutureWarning)\n"
     ]
    }
   ],
   "source": [
    "cv_test=CountVectorizer(vocabulary=cv.get_feature_names(),ngram_range=(2,2))\n",
    "\n",
    "test_data_cv=cv_test.transform(combined)"
   ]
  },
  {
   "cell_type": "code",
   "execution_count": 66,
   "id": "dd6f42fd",
   "metadata": {},
   "outputs": [
    {
     "data": {
      "text/plain": [
       "(601, 501554)"
      ]
     },
     "execution_count": 66,
     "metadata": {},
     "output_type": "execute_result"
    }
   ],
   "source": [
    "test_data_cv.shape"
   ]
  },
  {
   "cell_type": "code",
   "execution_count": 67,
   "id": "aa2a51d3",
   "metadata": {},
   "outputs": [],
   "source": [
    "predictions=rc.predict(test_data_cv)"
   ]
  },
  {
   "cell_type": "code",
   "execution_count": 68,
   "id": "cd230ed8",
   "metadata": {},
   "outputs": [],
   "source": [
    "from sklearn.metrics import confusion_matrix,accuracy_score,classification_report"
   ]
  },
  {
   "cell_type": "code",
   "execution_count": 69,
   "id": "09f7af7f",
   "metadata": {},
   "outputs": [
    {
     "name": "stdout",
     "output_type": "stream",
     "text": [
      "[[ 29 253]\n",
      " [ 35 284]]\n"
     ]
    }
   ],
   "source": [
    "print(confusion_matrix(test.Label,predictions))"
   ]
  },
  {
   "cell_type": "code",
   "execution_count": 70,
   "id": "737589a0",
   "metadata": {},
   "outputs": [
    {
     "name": "stdout",
     "output_type": "stream",
     "text": [
      "0.5207986688851913\n"
     ]
    }
   ],
   "source": [
    "print(accuracy_score(test.Label,predictions))"
   ]
  },
  {
   "cell_type": "code",
   "execution_count": 71,
   "id": "fa250922",
   "metadata": {},
   "outputs": [
    {
     "name": "stdout",
     "output_type": "stream",
     "text": [
      "              precision    recall  f1-score   support\n",
      "\n",
      "           0       0.45      0.10      0.17       282\n",
      "           1       0.53      0.89      0.66       319\n",
      "\n",
      "    accuracy                           0.52       601\n",
      "   macro avg       0.49      0.50      0.42       601\n",
      "weighted avg       0.49      0.52      0.43       601\n",
      "\n"
     ]
    }
   ],
   "source": [
    "print(classification_report(test.Label,predictions))"
   ]
  },
  {
   "cell_type": "markdown",
   "id": "db935c26",
   "metadata": {},
   "source": [
    "Now many of you might contradict my point of approach which i too think is not yet the best one...but a good one to start with if working on NLP.\n",
    "Here i should have vectorised whole of dataset after cleaning and wrangling and then sliced it for train andd test data.And this i blv would have been the best approach.\n",
    "But still we achieved an accuracy of 52% which i wouldn't say is the best...but good one for an NLP project."
   ]
  },
  {
   "cell_type": "code",
   "execution_count": null,
   "id": "2da8f16c",
   "metadata": {},
   "outputs": [],
   "source": []
  }
 ],
 "metadata": {
  "kernelspec": {
   "display_name": "Python 3 (ipykernel)",
   "language": "python",
   "name": "python3"
  },
  "language_info": {
   "codemirror_mode": {
    "name": "ipython",
    "version": 3
   },
   "file_extension": ".py",
   "mimetype": "text/x-python",
   "name": "python",
   "nbconvert_exporter": "python",
   "pygments_lexer": "ipython3",
   "version": "3.10.6"
  }
 },
 "nbformat": 4,
 "nbformat_minor": 5
}
